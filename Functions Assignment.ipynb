{
  "nbformat": 4,
  "nbformat_minor": 0,
  "metadata": {
    "colab": {
      "provenance": []
    },
    "kernelspec": {
      "name": "python3",
      "display_name": "Python 3"
    },
    "language_info": {
      "name": "python"
    }
  },
  "cells": [
    {
      "cell_type": "code",
      "source": [
        "# Theory Questions:"
      ],
      "metadata": {
        "id": "I_S8cR8hJYEO"
      },
      "execution_count": 1,
      "outputs": []
    },
    {
      "cell_type": "code",
      "execution_count": 2,
      "metadata": {
        "colab": {
          "base_uri": "https://localhost:8080/"
        },
        "id": "tpwRArTS4r6Z",
        "outputId": "cc1852e5-d32d-4605-f7be-7c7f69ac476d"
      },
      "outputs": [
        {
          "output_type": "stream",
          "name": "stdout",
          "text": [
            "Enter a number: 5\n",
            "120\n"
          ]
        }
      ],
      "source": [
        "# Q1) What is the difference between a function and a method in Python?\n",
        "# Ans. Parameter\t               Method\t                                                Function\n",
        "# definition \t    Method definitions are always present inside a class.\t                No class is needed to define a function.\n",
        "# Association    \tAssociated with the class object.\t                                    Not associated with any objects.\n",
        "# Call\t          It is called on an object.\t                                          It is called by its name.\n",
        "# Dependency\t    It depends on the class they belong to.                              \tIt doesn’t depend on any class, i.e., it is an identical entity.\n",
        "# self\t          It requires the self as its first argument.\t                          It doesn’t require any self-argument.\n",
        "# operation\t      It operates on the data of the object it associates with.\t            It operates on the data that you pass to them as an argument.\n",
        "# Example of function:-\n",
        "def fact(n):\n",
        "    if n==1:\n",
        "        return 1\n",
        "    else:\n",
        "        return n*fact(n-1)\n",
        "n=int(input(\"Enter a number: \"))\n",
        "result=fact(n)\n",
        "print(result)"
      ]
    },
    {
      "cell_type": "code",
      "source": [
        "# Example of Method\n",
        "class Employee(object):\n",
        "   def my_method(self):\n",
        "      print(\"I am Sushil\")\n",
        "name = Employee()\n",
        "name.my_method()"
      ],
      "metadata": {
        "colab": {
          "base_uri": "https://localhost:8080/"
        },
        "id": "AOJJlkCG4-uJ",
        "outputId": "649664b4-8872-489b-c606-4ac33cc66e00"
      },
      "execution_count": 3,
      "outputs": [
        {
          "output_type": "stream",
          "name": "stdout",
          "text": [
            "I am Sushil\n"
          ]
        }
      ]
    },
    {
      "cell_type": "code",
      "source": [
        "# Q2) Explain the concept of function arguments and parameters in Python.\n",
        "#Ans. Function Arguments:- Information can be passed into functions as arguments.\n",
        "def my_function(fname):\n",
        "  print(fname)\n",
        "\n",
        "my_function(\"Emil\")\n",
        "my_function(\"Tobias\")\n",
        "my_function(\"Linus\")\n"
      ],
      "metadata": {
        "colab": {
          "base_uri": "https://localhost:8080/"
        },
        "id": "CAHheh3C5CYm",
        "outputId": "b36229da-ef9d-4e47-b231-7f2d5d838d0c"
      },
      "execution_count": 4,
      "outputs": [
        {
          "output_type": "stream",
          "name": "stdout",
          "text": [
            "Emil\n",
            "Tobias\n",
            "Linus\n"
          ]
        }
      ]
    },
    {
      "cell_type": "code",
      "source": [
        "# Function parameters:- The terms parameter and argument can be used for the same thing: information that are passed into a function.\n",
        "def my_function(fname, lname):\n",
        "  print(fname + \" \" + lname)\n",
        "\n",
        "my_function(\"Emil\", \"Refsnes\")"
      ],
      "metadata": {
        "colab": {
          "base_uri": "https://localhost:8080/"
        },
        "id": "vQfTV9SD5EmO",
        "outputId": "366a7b12-f3d6-47c1-b358-d4f5a58a7208"
      },
      "execution_count": 5,
      "outputs": [
        {
          "output_type": "stream",
          "name": "stdout",
          "text": [
            "Emil Refsnes\n"
          ]
        }
      ]
    },
    {
      "cell_type": "code",
      "source": [
        "# Q3) What are the different ways to define and call a function in Python?\n",
        "# Ans. The four steps to defining a function in Python are the following:\n",
        "\n",
        "# 1. Use the keyword def to declare the function and follow this up with the function name.\n",
        "# 2. Add parameters to the function: they should be within the parentheses of the function. End your line with a colon.\n",
        "# 3. Add statements that the functions should execute.\n",
        "# 4. End your function with a return statement if the function should output something. Without the return statement, your function will return an object None.\n",
        "def hello():\n",
        "  name = str(input(\"Enter your name: \"))\n",
        "  if name:\n",
        "    print (\"Hello \" + str(name))\n",
        "  else:\n",
        "    print(\"Hello World\")\n",
        "  return\n",
        "\n",
        "hello()"
      ],
      "metadata": {
        "colab": {
          "base_uri": "https://localhost:8080/"
        },
        "id": "QFqQza515MlO",
        "outputId": "51a9f16d-f790-4a00-adae-37f0ffe119ac"
      },
      "execution_count": 6,
      "outputs": [
        {
          "output_type": "stream",
          "name": "stdout",
          "text": [
            "Enter your name: Sushil Kuamr\n",
            "Hello Sushil Kuamr\n"
          ]
        }
      ]
    },
    {
      "cell_type": "code",
      "source": [
        "# Q4) What is the purpose of the `return` statement in a Python function?\n",
        "# Ans. The Python return statement marks the end of a function and specifies the value or values to pass back from the function. Return statements can return data of any type, including integers, floats, strings, lists, dictionaries, and even other functions.\n",
        "def calculate_area(length, width):\n",
        "\tarea = length * width\n",
        "\treturn area\n",
        "\n",
        "area = calculate_area(60, 50) # get the result of the function\n",
        "print(f\"Calculated area: {area}\") # use the result of the function"
      ],
      "metadata": {
        "colab": {
          "base_uri": "https://localhost:8080/"
        },
        "id": "tvLF1uSa5Odm",
        "outputId": "11342caf-0707-46c1-c99f-80277e53977c"
      },
      "execution_count": 7,
      "outputs": [
        {
          "output_type": "stream",
          "name": "stdout",
          "text": [
            "Calculated area: 3000\n"
          ]
        }
      ]
    },
    {
      "cell_type": "code",
      "source": [
        "# Q5) What are iterators in Python and how do they differ from iterables?\n",
        "# Ans. Iterable is an object, that one can iterate over. It generates an Iterator when passed to iter() method. An iterator is an object, which is used to iterate over an iterable object using the __next__() method. Iterators have the __next__() method, which returns the next item of the object.\n",
        "s=\"PWskills\"\n",
        "s=iter(s)\n",
        "print(s)\n",
        "print(next(s))\n",
        "print(next(s))\n",
        "print(next(s))\n",
        "print(next(s))\n",
        "print(next(s))\n",
        "print(next(s))\n",
        "print(next(s))\n",
        "print(next(s))"
      ],
      "metadata": {
        "colab": {
          "base_uri": "https://localhost:8080/"
        },
        "id": "WFKJ4Vvq5Qxm",
        "outputId": "370347b4-0fae-4131-f289-93c0ede8f2c2"
      },
      "execution_count": 8,
      "outputs": [
        {
          "output_type": "stream",
          "name": "stdout",
          "text": [
            "<str_iterator object at 0x7e1a0462be50>\n",
            "P\n",
            "W\n",
            "s\n",
            "k\n",
            "i\n",
            "l\n",
            "l\n",
            "s\n"
          ]
        }
      ]
    },
    {
      "cell_type": "code",
      "source": [
        "# Q6) Explain the concept of generators in Python and how they are defined.\n",
        "# Ans. A generator function in Python is defined like a normal function, but whenever it needs to generate a value, it does so with the yield keyword rather than return. If the body of a def contains yield, the function automatically becomes a Python generator function.\n",
        "# A Python program to demonstrate use of\n",
        "# generator object with next()\n",
        "\n",
        "# A generator function\n",
        "def simpleGeneratorFun():\n",
        "    yield 1\n",
        "    yield 2\n",
        "    yield 3\n",
        "\n",
        "# x is a generator object\n",
        "x = simpleGeneratorFun()\n",
        "\n",
        "# Iterating over the generator object using next\n",
        "\n",
        "# In Python 3, __next__()\n",
        "print(next(x))\n",
        "print(next(x))\n",
        "print(next(x))"
      ],
      "metadata": {
        "colab": {
          "base_uri": "https://localhost:8080/"
        },
        "id": "TukQnA7w5S2O",
        "outputId": "43abcaad-8284-48fd-e3e3-a422bbec47d0"
      },
      "execution_count": 9,
      "outputs": [
        {
          "output_type": "stream",
          "name": "stdout",
          "text": [
            "1\n",
            "2\n",
            "3\n"
          ]
        }
      ]
    },
    {
      "cell_type": "code",
      "source": [
        "# Q7) What are the advantages of using generators over regular functions?\n",
        "# Ans. They are more efficient than loops for data processing or calculations. Generators are more readable than traditional for loops, as their syntax is cleaner and more straightforward. Generators are incredibly versatile and are used in various applications.\n",
        "def simpleGeneratorFun():\n",
        "    yield 1\n",
        "    yield 2\n",
        "    yield 3\n",
        "\n",
        "# x is a generator object\n",
        "x = simpleGeneratorFun()\n",
        "\n",
        "# Iterating over the generator object using next\n",
        "\n",
        "# In Python 3, __next__()\n",
        "print(next(x))\n",
        "print(next(x))\n",
        "print(next(x))"
      ],
      "metadata": {
        "colab": {
          "base_uri": "https://localhost:8080/"
        },
        "id": "HvZ8aLBb5VKF",
        "outputId": "267cfed6-eefd-4704-ea91-8d9cb957ad2b"
      },
      "execution_count": 10,
      "outputs": [
        {
          "output_type": "stream",
          "name": "stdout",
          "text": [
            "1\n",
            "2\n",
            "3\n"
          ]
        }
      ]
    },
    {
      "cell_type": "code",
      "source": [
        "# Q8) What is a lambda function in Python and when is it typically used?\n",
        "# Ans. lambda function:- Python Lambda Functions are anonymous functions means that the function is without a name. We use lambda functions once we require a nameless function for a brief period of your time.\n",
        "# Example of lambda function\n",
        "x = lambda a : a + 10\n",
        "print(x(5))"
      ],
      "metadata": {
        "colab": {
          "base_uri": "https://localhost:8080/"
        },
        "id": "rYbwA7th5oYu",
        "outputId": "a638ecda-5e30-4a4c-f39d-faf07f4ce46a"
      },
      "execution_count": 11,
      "outputs": [
        {
          "output_type": "stream",
          "name": "stdout",
          "text": [
            "15\n"
          ]
        }
      ]
    },
    {
      "cell_type": "code",
      "source": [
        "# Q9)  Explain the purpose and usage of the `map()` function in Python.\n",
        "# Ans. Map in Python is a function that works as an iterator to return a result after applying a function to every item of an iterable (tuple, lists, etc.). It is used when you want to apply a single transformation function to all the iterable elements.\n",
        "def addition(n):\n",
        "    return n + n\n",
        "\n",
        "# We double all numbers using map()\n",
        "numbers = (1, 2, 3, 4)\n",
        "result = map(addition, numbers)\n",
        "print(list(result))"
      ],
      "metadata": {
        "colab": {
          "base_uri": "https://localhost:8080/"
        },
        "id": "MboFq1685p6G",
        "outputId": "ca13064b-827d-46d4-ed54-adc9024ba177"
      },
      "execution_count": 12,
      "outputs": [
        {
          "output_type": "stream",
          "name": "stdout",
          "text": [
            "[2, 4, 6, 8]\n"
          ]
        }
      ]
    },
    {
      "cell_type": "code",
      "source": [
        "# Q10) What is the difference between `map()`, `reduce()`, and `filter()` functions in Python?\n",
        "# map():-\n",
        "# 1. Purpose:- Map in Python is a function that works as an iterator to return a result after applying a function to every item of an iterable (tuple, lists, etc.).\n",
        "# 2. Usage:- It is used when you want to apply a single transformation function to all the iterable elements.\n",
        "# 3. Syntax:- map(function, iterator).\n",
        "# Example:\n",
        "def square(x):\n",
        "    return x*x\n",
        "result=map(square,[10,20,30,40])\n",
        "print(list(result))"
      ],
      "metadata": {
        "colab": {
          "base_uri": "https://localhost:8080/"
        },
        "id": "1ckJbepL5sz-",
        "outputId": "70f62920-0573-4383-83fb-13a9429b5fe1"
      },
      "execution_count": 13,
      "outputs": [
        {
          "output_type": "stream",
          "name": "stdout",
          "text": [
            "[100, 400, 900, 1600]\n"
          ]
        }
      ]
    },
    {
      "cell_type": "code",
      "source": [
        "# reduce():-\n",
        "# 1. Purpose:- The reduce(fun,seq) function is used to apply a particular function passed in its argument to all of the list elements mentioned in the sequence passed along.This function is defined in “functools” module.\n",
        "# 2. Usage:- The reduce() function in Python performs cumulative operations on iterables.\n",
        "# 3. Syntax:- reduce(lambda(argument:expression)).\n",
        "# Example:-\n",
        "# python code to demonstrate working of reduce().\n",
        "import functools\n",
        "\n",
        "# initializing list\n",
        "lis = [1, 3, 5, 6, 2]\n",
        "\n",
        "# using reduce to compute sum of list\n",
        "print(\"The sum of the list elements is : \", end=\"\")\n",
        "print(functools.reduce(lambda a, b: a+b, lis))\n",
        "\n",
        "# using reduce to compute maximum element from list\n",
        "print(\"The maximum element of the list is : \", end=\"\")\n",
        "print(functools.reduce(lambda a, b: a if a > b else b, lis))"
      ],
      "metadata": {
        "colab": {
          "base_uri": "https://localhost:8080/"
        },
        "id": "xUzgAIFo5uwd",
        "outputId": "430732b1-a9b9-4693-88b5-8db1a744803e"
      },
      "execution_count": 14,
      "outputs": [
        {
          "output_type": "stream",
          "name": "stdout",
          "text": [
            "The sum of the list elements is : 17\n",
            "The maximum element of the list is : 6\n"
          ]
        }
      ]
    },
    {
      "cell_type": "code",
      "source": [
        "# filter():-\n",
        "# 1. Purpose:- Constructs an iterator from elements of an iterable for which a function returns True.\n",
        "# 2. Usage:- When you need to filter out elements from a collection based on a condition.\n",
        "# 3. syntax:- filter(function,iterator).\n",
        "# Example:-\n",
        "def is_even(x):\n",
        "    return x % 2 == 0\n",
        "\n",
        "numbers = [1, 2, 3, 4, 5]\n",
        "even_numbers = filter(is_even, numbers)\n",
        "print(list(even_numbers))"
      ],
      "metadata": {
        "colab": {
          "base_uri": "https://localhost:8080/"
        },
        "id": "LWBE7HyV5w4d",
        "outputId": "8760268c-d260-4b04-ca5e-5479a154e906"
      },
      "execution_count": 15,
      "outputs": [
        {
          "output_type": "stream",
          "name": "stdout",
          "text": [
            "[2, 4]\n"
          ]
        }
      ]
    },
    {
      "cell_type": "code",
      "source": [
        "# Q11) Using pen & Paper write the internal mechanism for sum operation using  reduce function on this given\n",
        "# list:[47,11,42,13];\n",
        "# Ans.\n",
        "/content/1000112029.jpg\n"
      ],
      "metadata": {
        "id": "LYfmV5iK5y9n"
      },
      "execution_count": 16,
      "outputs": []
    },
    {
      "cell_type": "code",
      "source": [
        "# Practical Questions."
      ],
      "metadata": {
        "id": "espknR47JLiP"
      },
      "execution_count": 17,
      "outputs": []
    },
    {
      "cell_type": "code",
      "source": [
        "# Q1) Write a Python function that takes a list of numbers as input and returns the sum of all even numbers in the list.\n",
        "def sum_even(numbers):\n",
        "    sum=0\n",
        "    for i in numbers:\n",
        "        if i%2==0:\n",
        "            sum+=i\n",
        "    return sum\n",
        "numbers=[10,25,30,40,50]\n",
        "print(sum_even(numbers))"
      ],
      "metadata": {
        "colab": {
          "base_uri": "https://localhost:8080/"
        },
        "id": "IuyNrzXd7I4F",
        "outputId": "79a90bb7-464b-4087-a469-4cca867f3cc8"
      },
      "execution_count": 18,
      "outputs": [
        {
          "output_type": "stream",
          "name": "stdout",
          "text": [
            "130\n"
          ]
        }
      ]
    },
    {
      "cell_type": "code",
      "source": [
        "# Q2) Create a Python function that accepts a string and returns the reverse of that string.\n",
        "def rev(st):\n",
        "    return st[::-1]\n",
        "st=\"PWskills\"\n",
        "print(rev(st))"
      ],
      "metadata": {
        "colab": {
          "base_uri": "https://localhost:8080/"
        },
        "id": "KIvItQrM7KqV",
        "outputId": "e304cc8b-aaf6-480d-f8cb-54c27628acd3"
      },
      "execution_count": 19,
      "outputs": [
        {
          "output_type": "stream",
          "name": "stdout",
          "text": [
            "slliksWP\n"
          ]
        }
      ]
    },
    {
      "cell_type": "code",
      "source": [
        "# Q3) Implement a Python function that takes a list of integers and returns a new list containing the squares of each number.\n",
        "def mul(l):\n",
        "    return [i**2 for i in l]\n",
        "l=[10,2,6,9,8]\n",
        "print(mul(l))"
      ],
      "metadata": {
        "colab": {
          "base_uri": "https://localhost:8080/"
        },
        "id": "jRiY-_w67MDd",
        "outputId": "dc057a4a-0e0c-49b9-f9eb-d21e01d29908"
      },
      "execution_count": 20,
      "outputs": [
        {
          "output_type": "stream",
          "name": "stdout",
          "text": [
            "[100, 4, 36, 81, 64]\n"
          ]
        }
      ]
    },
    {
      "cell_type": "code",
      "source": [
        "# Q4) Write a Python function that checks if a given number is prime or not from 1 to 200.\n",
        "def is_prime(n):\n",
        "    \"\"\"Check if a number is prime.\"\"\"\n",
        "    if n <= 1:\n",
        "        return False\n",
        "    if n <= 3:\n",
        "        return True\n",
        "    if n % 2 == 0 or n % 3 == 0:\n",
        "        return False\n",
        "    i = 5\n",
        "    while i * i <= n:\n",
        "        if n % i == 0 or n % (i + 2) == 0:\n",
        "            return False\n",
        "        i += 6\n",
        "    return True\n",
        "\n",
        "# Testing the function for numbers 1 to 200\n",
        "prime_numbers = [n for n in range(1, 201) if is_prime(n)]\n",
        "print(\"Prime numbers between 1 and 200:\", prime_numbers)"
      ],
      "metadata": {
        "colab": {
          "base_uri": "https://localhost:8080/"
        },
        "id": "lt7yRwGH7Ni1",
        "outputId": "2f584e58-a6c9-42fe-8265-4fdac5f53299"
      },
      "execution_count": 21,
      "outputs": [
        {
          "output_type": "stream",
          "name": "stdout",
          "text": [
            "Prime numbers between 1 and 200: [2, 3, 5, 7, 11, 13, 17, 19, 23, 29, 31, 37, 41, 43, 47, 53, 59, 61, 67, 71, 73, 79, 83, 89, 97, 101, 103, 107, 109, 113, 127, 131, 137, 139, 149, 151, 157, 163, 167, 173, 179, 181, 191, 193, 197, 199]\n"
          ]
        }
      ]
    },
    {
      "cell_type": "code",
      "source": [
        "# Q5) Create an iterator class in Python that generates the Fibonacci sequence up to a specified number of terms.\n",
        "class FibonacciIterator:\n",
        "    def __init__(self, limit):\n",
        "        self.limit = limit\n",
        "        self.a = 0\n",
        "        self.b = 1\n",
        "\n",
        "    def __iter__(self):\n",
        "        return self\n",
        "\n",
        "    def __next__(self):\n",
        "        if self.a > self.limit:\n",
        "            raise StopIteration\n",
        "        current = self.a\n",
        "        self.a, self.b = self.b, self.a + self.b\n",
        "        return current\n",
        "\n",
        "# Create an instance of FibonacciIterator\n",
        "fib_iterator = FibonacciIterator(100)\n",
        "\n",
        "# Using next() to iterate\n",
        "print(\"\\nUsing next() function:\")\n",
        "fib_iterator = FibonacciIterator(100)\n",
        "print(next(fib_iterator))\n",
        "print(next(fib_iterator))\n",
        "print(next(fib_iterator))\n",
        "print(next(fib_iterator))\n",
        "print(next(fib_iterator))\n",
        "print(next(fib_iterator))\n",
        "print(next(fib_iterator))\n",
        "print(next(fib_iterator))\n",
        "print(next(fib_iterator))\n",
        "print(next(fib_iterator))\n",
        "print(next(fib_iterator))\n",
        "print(next(fib_iterator))"
      ],
      "metadata": {
        "colab": {
          "base_uri": "https://localhost:8080/"
        },
        "id": "EYLXJtWu7PBd",
        "outputId": "daf0db80-99e6-4e13-fc33-9cedd2e0b01b"
      },
      "execution_count": 22,
      "outputs": [
        {
          "output_type": "stream",
          "name": "stdout",
          "text": [
            "\n",
            "Using next() function:\n",
            "0\n",
            "1\n",
            "1\n",
            "2\n",
            "3\n",
            "5\n",
            "8\n",
            "13\n",
            "21\n",
            "34\n",
            "55\n",
            "89\n"
          ]
        }
      ]
    },
    {
      "cell_type": "code",
      "source": [
        "# Q6) Write a generator function in Python that yields the powers of 2 up to a given exponent.\n",
        "def powers_of_two(max_exponent):\n",
        "    \"\"\"Generate powers of 2 up to the given exponent.\"\"\"\n",
        "    for exponent in range(max_exponent + 1):\n",
        "        yield 2 ** exponent\n",
        "\n",
        "# Example usage:\n",
        "for power in powers_of_two(5):\n",
        "    print(power)"
      ],
      "metadata": {
        "colab": {
          "base_uri": "https://localhost:8080/"
        },
        "id": "DW0HEE3w7ZK2",
        "outputId": "b9fb4413-9123-47da-a53b-7f9b1535ae01"
      },
      "execution_count": 23,
      "outputs": [
        {
          "output_type": "stream",
          "name": "stdout",
          "text": [
            "1\n",
            "2\n",
            "4\n",
            "8\n",
            "16\n",
            "32\n"
          ]
        }
      ]
    },
    {
      "cell_type": "code",
      "source": [
        "# Q7) Implement a generator function that reads a file line by line and yields each line as a string.\n",
        "def read_file_line_by_line(file_path):\n",
        "    \"\"\"Generator function to read a file line by line.\"\"\"\n",
        "    try:\n",
        "        with open(file_path, 'r') as file:\n",
        "            for line in file:\n",
        "                yield line.rstrip('\\n')\n",
        "    except FileNotFoundError:\n",
        "        print(f\"Error: The file '{file_path}' was not found.\")\n",
        "    except IOError:\n",
        "        print(f\"Error: Could not read the file '{file_path}'.\")\n",
        "\n",
        "# Example usage:\n",
        "file_path = 'example.txt'  # Replace with the path to your file\n",
        "for line in read_file_line_by_line(file_path):\n",
        "    print(line)"
      ],
      "metadata": {
        "colab": {
          "base_uri": "https://localhost:8080/"
        },
        "id": "8UM_x-G_7bOt",
        "outputId": "ca97554d-d89a-4776-fee1-711a49cb168e"
      },
      "execution_count": 24,
      "outputs": [
        {
          "output_type": "stream",
          "name": "stdout",
          "text": [
            "Error: The file 'example.txt' was not found.\n"
          ]
        }
      ]
    },
    {
      "cell_type": "code",
      "source": [
        "# Q8) Implement a generator function that reads a file line by line and yields each line as a string.\n",
        "# Sample list of tuples\n",
        "tuples_list = [(1, 3), (4, 1), (2, 2), (5, 0)]\n",
        "\n",
        "# Sorting using a lambda function based on the second element\n",
        "sorted_tuples = sorted(tuples_list, key=lambda x: x[1])\n",
        "\n",
        "# Output the sorted list\n",
        "print(\"Sorted list of tuples:\", sorted_tuples)"
      ],
      "metadata": {
        "colab": {
          "base_uri": "https://localhost:8080/"
        },
        "id": "bl0-kUQ77cxg",
        "outputId": "d2ed80ea-162c-47ed-9a95-e34b9721940b"
      },
      "execution_count": 25,
      "outputs": [
        {
          "output_type": "stream",
          "name": "stdout",
          "text": [
            "Sorted list of tuples: [(5, 0), (4, 1), (2, 2), (1, 3)]\n"
          ]
        }
      ]
    },
    {
      "cell_type": "code",
      "source": [
        "# Q9) Write a Python program that uses `map()` to convert a list of temperatures from Celsius to Fahrenheit.\n",
        "def celsius_to_fahrenheit(celsius):\n",
        "    return (celsius * 9/5) + 32\n",
        "\n",
        "celsius_temperatures = [0, 20, 37, 100]\n",
        "\n",
        "fahrenheit_temperatures = list(map(celsius_to_fahrenheit, celsius_temperatures))\n",
        "\n",
        "print(\"Temperatures in Celsius:\", celsius_temperatures)\n",
        "print(\"Temperatures in Fahrenheit:\", fahrenheit_temperatures)"
      ],
      "metadata": {
        "colab": {
          "base_uri": "https://localhost:8080/"
        },
        "id": "gP9Z0GVu7eYp",
        "outputId": "e0aea361-a563-4a72-87c6-9b136df52267"
      },
      "execution_count": 26,
      "outputs": [
        {
          "output_type": "stream",
          "name": "stdout",
          "text": [
            "Temperatures in Celsius: [0, 20, 37, 100]\n",
            "Temperatures in Fahrenheit: [32.0, 68.0, 98.6, 212.0]\n"
          ]
        }
      ]
    },
    {
      "cell_type": "code",
      "source": [
        "# Q10) Create a Python program that uses `filter()` to remove all the vowels from a given string.\n",
        "def remove_vowels(string):\n",
        "    \"\"\"Remove vowels from the input string.\"\"\"\n",
        "    vowels = 'aeiouAEIOU'\n",
        "    return ''.join(filter(lambda char: char not in vowels, string))\n",
        "\n",
        "# Input string\n",
        "input_string = \"Hello, World!\"\n",
        "\n",
        "# Remove vowels using filter\n",
        "output_string = remove_vowels(input_string)\n",
        "\n",
        "# Print the result\n",
        "print(\"Original string:\", input_string)\n",
        "print(\"String without vowels:\", output_string)"
      ],
      "metadata": {
        "colab": {
          "base_uri": "https://localhost:8080/"
        },
        "id": "GXWzB4kG7f4-",
        "outputId": "e776d32d-37d7-4800-b07b-61a87930aaf1"
      },
      "execution_count": 27,
      "outputs": [
        {
          "output_type": "stream",
          "name": "stdout",
          "text": [
            "Original string: Hello, World!\n",
            "String without vowels: Hll, Wrld!\n"
          ]
        }
      ]
    },
    {
      "cell_type": "code",
      "source": [
        "# Q11) Imagine an accounting routine used in a book shop. It works on a list with sublists, which look like this:\n",
        "# Write a Python program, which returns a list with 2-tuples. Each tuple consists of the order number and the\n",
        "# product of the price per item and the quantity. The product should be increased by 10,- € if the value of the\n",
        "# order is smaller than 100,00 €.\n",
        "# Write a Python program using lambda and map\n",
        "# List of orders in the format [order_number, price_per_item, quantity]\n",
        "orders = [\n",
        "    [34587, 4.50, 10],\n",
        "    [98762, 5.99, 5],\n",
        "    [77226, 2.99, 20],\n",
        "    [88112, 6.49, 4],\n",
        "]\n",
        "\n",
        "# Function to calculate total order value\n",
        "calculate_order_value = lambda order: (\n",
        "    order[0],\n",
        "    (order[1] * order[2]) + (10 if order[1] * order[2] < 100 else 0),\n",
        ")\n",
        "\n",
        "# Apply the function to each order using map\n",
        "order_values = list(map(calculate_order_value, orders))\n",
        "\n",
        "# Print the result\n",
        "print(\"Order values:\", order_values)"
      ],
      "metadata": {
        "colab": {
          "base_uri": "https://localhost:8080/"
        },
        "id": "OBClRry37hel",
        "outputId": "ebac413c-4798-474b-cda3-f3e6453da2bf"
      },
      "execution_count": 28,
      "outputs": [
        {
          "output_type": "stream",
          "name": "stdout",
          "text": [
            "Order values: [(34587, 55.0), (98762, 39.95), (77226, 69.80000000000001), (88112, 35.96)]\n"
          ]
        }
      ]
    },
    {
      "cell_type": "code",
      "source": [],
      "metadata": {
        "id": "FDqwaV3V7j3O"
      },
      "execution_count": 28,
      "outputs": []
    }
  ]
}